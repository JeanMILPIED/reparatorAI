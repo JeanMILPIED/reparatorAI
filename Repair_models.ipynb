{
 "cells": [
  {
   "cell_type": "markdown",
   "id": "79973a87-7f54-41c2-acae-1aafe4465c29",
   "metadata": {},
   "source": [
    "### repair models development  \n",
    "#### ideas  \n",
    "1. features importance\n",
    "2. Weibull fit  "
   ]
  },
  {
   "cell_type": "markdown",
   "id": "78f6ad9c-1cfe-41c4-b690-ee8c761e9cad",
   "metadata": {},
   "source": [
    "#### Step0. import"
   ]
  },
  {
   "cell_type": "code",
   "execution_count": 117,
   "id": "0c744e4e-059f-43da-ae00-6a87c00f4bc1",
   "metadata": {},
   "outputs": [],
   "source": [
    "import os\n",
    "import pandas as pd\n",
    "import numpy as np\n",
    "import matplotlib.pyplot as plt\n",
    "\n",
    "import warnings\n",
    "warnings.filterwarnings('ignore')\n",
    "pd.options.mode.chained_assignment = None\n",
    "\n",
    "import pandas as pd\n",
    "from sklearn.model_selection import train_test_split\n",
    "from sklearn.compose import ColumnTransformer\n",
    "from sklearn.pipeline import Pipeline\n",
    "from sklearn.preprocessing import OneHotEncoder, StandardScaler\n",
    "from sklearn.ensemble import IsolationForest\n",
    "from sklearn.base import BaseEstimator, TransformerMixin\n",
    "\n",
    "from sklearn.linear_model import LogisticRegression\n",
    "\n",
    "from sklearn.ensemble import RandomForestClassifier\n",
    "from sklearn.metrics import accuracy_score\n",
    "from sklearn.feature_selection import SelectFromModel\n",
    "\n",
    "from sklearn.metrics import accuracy_score, precision_score, recall_score, f1_score"
   ]
  },
  {
   "cell_type": "markdown",
   "id": "65330563-3364-46d8-a65c-4f8ba91e575f",
   "metadata": {},
   "source": [
    "#### Step1. load dataset"
   ]
  },
  {
   "cell_type": "code",
   "execution_count": 3,
   "id": "24b1b924-0e6d-4df2-8d53-e25620eb1351",
   "metadata": {},
   "outputs": [],
   "source": [
    "os.chdir(r'C:\\Users\\Administrateur\\OneDrive\\Documents\\GitHub\\reparatorAI\\data')"
   ]
  },
  {
   "cell_type": "code",
   "execution_count": 7,
   "id": "f9ca40b7-faee-441e-b399-088268235ec5",
   "metadata": {},
   "outputs": [],
   "source": [
    "df=pd.read_csv('OpenRepairData_v0.3_aggregate_202303.csv', index_col=0)"
   ]
  },
  {
   "cell_type": "code",
   "execution_count": 8,
   "id": "aa065fdc-57f2-454b-baa8-bc80529e3420",
   "metadata": {},
   "outputs": [
    {
     "data": {
      "text/plain": [
       "(103076, 21)"
      ]
     },
     "execution_count": 8,
     "metadata": {},
     "output_type": "execute_result"
    }
   ],
   "source": [
    "df.shape"
   ]
  },
  {
   "cell_type": "code",
   "execution_count": 9,
   "id": "39e3fc79-b632-4e1a-be07-1af6b4dbf862",
   "metadata": {},
   "outputs": [
    {
     "data": {
      "text/plain": [
       "Index(['id', 'data_provider', 'country', 'partner_product_category',\n",
       "       'product_category', 'product_category_id', 'brand',\n",
       "       'year_of_manufacture', 'product_age', 'repair_status',\n",
       "       'repair_barrier_if_end_of_life', 'group_identifier', 'event_date',\n",
       "       'problem', 'product_category_new', 'brand_ok', 'TopCategory',\n",
       "       'problem_class', 'TopCategory_FR', 'product_category_FR',\n",
       "       'problem_class_main'],\n",
       "      dtype='object')"
      ]
     },
     "execution_count": 9,
     "metadata": {},
     "output_type": "execute_result"
    }
   ],
   "source": [
    "df.columns"
   ]
  },
  {
   "cell_type": "code",
   "execution_count": 31,
   "id": "88618ffe-8df6-4b17-9c56-6dd7f4f7f7e2",
   "metadata": {},
   "outputs": [
    {
     "data": {
      "text/plain": [
       "id                                   0\n",
       "data_provider                        0\n",
       "country                              0\n",
       "partner_product_category             0\n",
       "product_category                     0\n",
       "product_category_id                  0\n",
       "brand                                6\n",
       "year_of_manufacture              65959\n",
       "product_age                      65959\n",
       "repair_status                        0\n",
       "repair_barrier_if_end_of_life    95808\n",
       "group_identifier                     0\n",
       "event_date                           0\n",
       "problem                          15045\n",
       "product_category_new                 0\n",
       "brand_ok                             1\n",
       "TopCategory                          0\n",
       "problem_class                        0\n",
       "TopCategory_FR                       0\n",
       "product_category_FR                  0\n",
       "problem_class_main                   0\n",
       "dtype: int64"
      ]
     },
     "execution_count": 31,
     "metadata": {},
     "output_type": "execute_result"
    }
   ],
   "source": [
    "df.isnull().sum()"
   ]
  },
  {
   "cell_type": "code",
   "execution_count": 12,
   "id": "6a2c3247-663a-4f02-b295-27d5918717ab",
   "metadata": {},
   "outputs": [
    {
     "data": {
      "text/plain": [
       "array(['M', 'U', 'G', 'E', 'O'], dtype=object)"
      ]
     },
     "execution_count": 12,
     "metadata": {},
     "output_type": "execute_result"
    }
   ],
   "source": [
    "df.problem_class_main.unique()"
   ]
  },
  {
   "cell_type": "code",
   "execution_count": 20,
   "id": "3aeb0654-3ac0-4262-b6d1-4c82bd3159e6",
   "metadata": {},
   "outputs": [
    {
     "data": {
      "text/plain": [
       "array(['COFFEE MAKER', 'HI-FI INTEGRATED', 'HI-FI SEPARATES', 'LAPTOP',\n",
       "       'PAPER SHREDDER', 'KETTLE', 'FOOD PROCESSOR', 'PORTABLE RADIO',\n",
       "       'DESKTOP COMPUTER', 'DSLR/VIDEO CAMERA', 'LAMP',\n",
       "       'DIGITAL COMPACT CAMERA', 'MISC', 'VACUUM', 'IRON',\n",
       "       'HAIR & BEAUTY ITEM', 'DECORATIVE OR SAFETY LIGHTS',\n",
       "       'TV AND GAMING-RELATED ACCESSORIES', 'POWER TOOL',\n",
       "       'SMALL HOME ELECTRICAL', 'PRINTER/SCANNER',\n",
       "       'HANDHELD ENTERTAINMENT DEVICE', 'SMALL KITCHEN ITEM', 'MOBILE',\n",
       "       'BATTERY/CHARGER/ADAPTER', 'PROJECTOR', 'FLAT SCREEN',\n",
       "       'WATCH/CLOCK', 'TOY', 'TOASTER', 'SEWING MACHINE', 'GAMES CONSOLE',\n",
       "       'TABLET', 'HAIR DRYER', 'HEADPHONES', 'PC ACCESSORY',\n",
       "       'LARGE HOME ELECTRICAL', 'MUSICAL INSTRUMENT',\n",
       "       'AIRCON/DEHUMIDIFIER', 'FAN'], dtype=object)"
      ]
     },
     "execution_count": 20,
     "metadata": {},
     "output_type": "execute_result"
    }
   ],
   "source": [
    "df.product_category_new.unique()"
   ]
  },
  {
   "cell_type": "code",
   "execution_count": 13,
   "id": "57bbfbd5-07bd-4bea-b004-4623807b33a8",
   "metadata": {},
   "outputs": [
    {
     "data": {
      "text/plain": [
       "array(['End of life', 'Repairable', 'Fixed', 'Unknown'], dtype=object)"
      ]
     },
     "execution_count": 13,
     "metadata": {},
     "output_type": "execute_result"
    }
   ],
   "source": [
    "df.repair_status.unique()"
   ]
  },
  {
   "cell_type": "code",
   "execution_count": 16,
   "id": "111f02bd-568b-4909-b6cb-f2a8719237fb",
   "metadata": {},
   "outputs": [
    {
     "data": {
      "text/html": [
       "<div>\n",
       "<style scoped>\n",
       "    .dataframe tbody tr th:only-of-type {\n",
       "        vertical-align: middle;\n",
       "    }\n",
       "\n",
       "    .dataframe tbody tr th {\n",
       "        vertical-align: top;\n",
       "    }\n",
       "\n",
       "    .dataframe thead th {\n",
       "        text-align: right;\n",
       "    }\n",
       "</style>\n",
       "<table border=\"1\" class=\"dataframe\">\n",
       "  <thead>\n",
       "    <tr style=\"text-align: right;\">\n",
       "      <th></th>\n",
       "      <th>product_category_id</th>\n",
       "      <th>year_of_manufacture</th>\n",
       "      <th>product_age</th>\n",
       "    </tr>\n",
       "  </thead>\n",
       "  <tbody>\n",
       "    <tr>\n",
       "      <th>count</th>\n",
       "      <td>103076.000000</td>\n",
       "      <td>37117.000000</td>\n",
       "      <td>37117.000000</td>\n",
       "    </tr>\n",
       "    <tr>\n",
       "      <th>mean</th>\n",
       "      <td>23.369417</td>\n",
       "      <td>2008.472452</td>\n",
       "      <td>12.056543</td>\n",
       "    </tr>\n",
       "    <tr>\n",
       "      <th>std</th>\n",
       "      <td>10.205812</td>\n",
       "      <td>14.654064</td>\n",
       "      <td>14.560084</td>\n",
       "    </tr>\n",
       "    <tr>\n",
       "      <th>min</th>\n",
       "      <td>1.000000</td>\n",
       "      <td>1019.000000</td>\n",
       "      <td>-1.000000</td>\n",
       "    </tr>\n",
       "    <tr>\n",
       "      <th>25%</th>\n",
       "      <td>15.000000</td>\n",
       "      <td>2005.000000</td>\n",
       "      <td>4.000000</td>\n",
       "    </tr>\n",
       "    <tr>\n",
       "      <th>50%</th>\n",
       "      <td>24.000000</td>\n",
       "      <td>2013.000000</td>\n",
       "      <td>7.000000</td>\n",
       "    </tr>\n",
       "    <tr>\n",
       "      <th>75%</th>\n",
       "      <td>33.000000</td>\n",
       "      <td>2017.000000</td>\n",
       "      <td>15.000000</td>\n",
       "    </tr>\n",
       "    <tr>\n",
       "      <th>max</th>\n",
       "      <td>40.000000</td>\n",
       "      <td>2023.000000</td>\n",
       "      <td>998.000000</td>\n",
       "    </tr>\n",
       "  </tbody>\n",
       "</table>\n",
       "</div>"
      ],
      "text/plain": [
       "       product_category_id  year_of_manufacture   product_age\n",
       "count        103076.000000         37117.000000  37117.000000\n",
       "mean             23.369417          2008.472452     12.056543\n",
       "std              10.205812            14.654064     14.560084\n",
       "min               1.000000          1019.000000     -1.000000\n",
       "25%              15.000000          2005.000000      4.000000\n",
       "50%              24.000000          2013.000000      7.000000\n",
       "75%              33.000000          2017.000000     15.000000\n",
       "max              40.000000          2023.000000    998.000000"
      ]
     },
     "execution_count": 16,
     "metadata": {},
     "output_type": "execute_result"
    }
   ],
   "source": [
    "df.describe()"
   ]
  },
  {
   "cell_type": "markdown",
   "id": "dfefc2d3-bbee-4022-a18d-607ba2440c6e",
   "metadata": {},
   "source": [
    "#### Step2. prepare for training  "
   ]
  },
  {
   "cell_type": "code",
   "execution_count": 49,
   "id": "0d281e90-7436-4cfa-8646-6b643c8cb0da",
   "metadata": {},
   "outputs": [],
   "source": [
    "def clean_df(df):\n",
    "    df_ok = df[['repair_status','product_category_new', 'brand_ok', 'product_age','problem_class_main']]\n",
    "    my_brand_low_freq = df_ok.brand_ok.value_counts()[df_ok.brand_ok.value_counts() < 10].index.tolist()\n",
    "    df_ok = df_ok[df_ok.brand_ok.isin(my_brand_low_freq) == False]\n",
    "    df_ok['product_age']=df_ok.product_age.fillna(df_ok.product_age.median())\n",
    "    df_ok=df_ok.dropna()\n",
    "    \n",
    "    target_map_dict={'End of life':0, 'Repairable':0, 'Fixed':1, 'Unknown':0}\n",
    "    \n",
    "    df_ok['target'] = df_ok.repair_status.map(target_map_dict)\n",
    "    df_ok=df_ok.drop('repair_status', axis=1)\n",
    "    return df_ok"
   ]
  },
  {
   "cell_type": "code",
   "execution_count": 75,
   "id": "69a88f28-03a8-4e62-8a78-d410a1cdd382",
   "metadata": {},
   "outputs": [],
   "source": [
    "data=clean_df(df)"
   ]
  },
  {
   "cell_type": "code",
   "execution_count": 76,
   "id": "8bd4f848-6d19-4cb2-a579-00e84021ec7c",
   "metadata": {},
   "outputs": [
    {
     "data": {
      "text/html": [
       "<div>\n",
       "<style scoped>\n",
       "    .dataframe tbody tr th:only-of-type {\n",
       "        vertical-align: middle;\n",
       "    }\n",
       "\n",
       "    .dataframe tbody tr th {\n",
       "        vertical-align: top;\n",
       "    }\n",
       "\n",
       "    .dataframe thead th {\n",
       "        text-align: right;\n",
       "    }\n",
       "</style>\n",
       "<table border=\"1\" class=\"dataframe\">\n",
       "  <thead>\n",
       "    <tr style=\"text-align: right;\">\n",
       "      <th></th>\n",
       "      <th>product_category_new</th>\n",
       "      <th>brand_ok</th>\n",
       "      <th>product_age</th>\n",
       "      <th>problem_class_main</th>\n",
       "      <th>target</th>\n",
       "    </tr>\n",
       "  </thead>\n",
       "  <tbody>\n",
       "    <tr>\n",
       "      <th>0</th>\n",
       "      <td>COFFEE MAKER</td>\n",
       "      <td>KRUPS</td>\n",
       "      <td>25.0</td>\n",
       "      <td>M</td>\n",
       "      <td>0</td>\n",
       "    </tr>\n",
       "    <tr>\n",
       "      <th>1</th>\n",
       "      <td>HI-FI INTEGRATED</td>\n",
       "      <td>JBL</td>\n",
       "      <td>7.0</td>\n",
       "      <td>U</td>\n",
       "      <td>0</td>\n",
       "    </tr>\n",
       "    <tr>\n",
       "      <th>2</th>\n",
       "      <td>HI-FI SEPARATES</td>\n",
       "      <td>TRUST</td>\n",
       "      <td>10.0</td>\n",
       "      <td>G</td>\n",
       "      <td>1</td>\n",
       "    </tr>\n",
       "    <tr>\n",
       "      <th>3</th>\n",
       "      <td>LAPTOP</td>\n",
       "      <td>TOSHIBA</td>\n",
       "      <td>8.0</td>\n",
       "      <td>M</td>\n",
       "      <td>0</td>\n",
       "    </tr>\n",
       "    <tr>\n",
       "      <th>4</th>\n",
       "      <td>PAPER SHREDDER</td>\n",
       "      <td>GENIE</td>\n",
       "      <td>5.0</td>\n",
       "      <td>U</td>\n",
       "      <td>0</td>\n",
       "    </tr>\n",
       "  </tbody>\n",
       "</table>\n",
       "</div>"
      ],
      "text/plain": [
       "  product_category_new brand_ok  product_age problem_class_main  target\n",
       "0         COFFEE MAKER    KRUPS         25.0                  M       0\n",
       "1     HI-FI INTEGRATED      JBL          7.0                  U       0\n",
       "2      HI-FI SEPARATES    TRUST         10.0                  G       1\n",
       "3               LAPTOP  TOSHIBA          8.0                  M       0\n",
       "4       PAPER SHREDDER    GENIE          5.0                  U       0"
      ]
     },
     "execution_count": 76,
     "metadata": {},
     "output_type": "execute_result"
    }
   ],
   "source": [
    "data.head()"
   ]
  },
  {
   "cell_type": "code",
   "execution_count": 77,
   "id": "57b860f5-e6cb-4717-b72d-10297354734f",
   "metadata": {},
   "outputs": [
    {
     "data": {
      "text/plain": [
       "product_category_new    0\n",
       "brand_ok                0\n",
       "product_age             0\n",
       "problem_class_main      0\n",
       "target                  0\n",
       "dtype: int64"
      ]
     },
     "execution_count": 77,
     "metadata": {},
     "output_type": "execute_result"
    }
   ],
   "source": [
    "data.isnull().sum()"
   ]
  },
  {
   "cell_type": "code",
   "execution_count": 86,
   "id": "c6b086ec-2978-44ca-a066-1e9e162bc707",
   "metadata": {},
   "outputs": [],
   "source": [
    "class FrequencyEncoderTransformer(BaseEstimator, TransformerMixin):\n",
    "    def __init__(self, columns):\n",
    "        self.columns = columns\n",
    "        self.frequency_maps = {}\n",
    "\n",
    "    def fit(self, X, y=None):\n",
    "        for column in self.columns:\n",
    "            frequency_map = X[column].value_counts(normalize=True).to_dict()\n",
    "            self.frequency_maps[column] = frequency_map\n",
    "        return self\n",
    "\n",
    "    def transform(self, X):\n",
    "        X_copy = X.copy()\n",
    "        for column, frequency_map in self.frequency_maps.items():\n",
    "            X_copy[column] = X[column].map(frequency_map)\n",
    "        return X_copy"
   ]
  },
  {
   "cell_type": "code",
   "execution_count": 109,
   "id": "41fb9d08-2dbb-4b3a-bb23-bbb7a7a69b4e",
   "metadata": {},
   "outputs": [
    {
     "name": "stdout",
     "output_type": "stream",
     "text": [
      "(73709, 4) (18428, 4) (73709,) (18428,)\n",
      "(73709, 9)\n",
      "(70074, 9) (17515, 9)\n"
     ]
    }
   ],
   "source": [
    "# Separate features and target variable\n",
    "X = data.drop('target', axis=1)\n",
    "y = data['target']\n",
    "\n",
    "# Split the dataset into training and testing sets\n",
    "X_train, X_test, y_train, y_test = train_test_split(X, y, test_size=0.2, random_state=42)\n",
    "print(X_train.shape, X_test.shape, y_train.shape, y_test.shape)\n",
    "\n",
    "# Define the categorical and numerical columns\n",
    "#categorical_cols = ['problem_class_main']\n",
    "numerical_cols = ['product_age']\n",
    "cat_cols=['problem_class_main']\n",
    "cat_freq_cols=['brand_ok','product_category_new','problem_class_main']\n",
    "\n",
    "# Create transformers for preprocessing\n",
    "preprocessor = ColumnTransformer(\n",
    "    transformers=[\n",
    "        ('num', StandardScaler(), numerical_cols),\n",
    "        ('catfreq',FrequencyEncoderTransformer(columns=cat_freq_cols), cat_freq_cols),\n",
    "        ('cat', OneHotEncoder(sparse=True), cat_cols),\n",
    "    ],\n",
    "    remainder='drop'\n",
    ")\n",
    "\n",
    "# Define the outlier removal model\n",
    "outlier_model = IsolationForest(contamination=0.05)  # Adjust the contamination parameter as needed\n",
    "\n",
    "\n",
    "\n",
    "# Fit the preprocessor on the training data\n",
    "X_train_transformed = preprocessor.fit_transform(X_train)\n",
    "print(X_train_transformed.shape)\n",
    "\n",
    "# Convert the transformed training data to CSR format\n",
    "X_train_transformed_csr = pd.DataFrame(X_train_transformed, columns=['Age','brand','prodCat','Pb', 'M', 'U', 'G', 'E', 'O'])\n",
    "\n",
    "# Fit the outlier removal model on the transformed training data\n",
    "outlier_model.fit(X_train_transformed_csr)\n",
    "\n",
    "# Predict outliers on the train set\n",
    "outliers_train = outlier_model.predict(X_train_transformed_csr)\n",
    "\n",
    "# Filter out the outliers from the test set\n",
    "X_train_filtered = X_train_transformed_csr[outliers_train == 1]\n",
    "y_train_filtered = y_train[outliers_train == 1]\n",
    "\n",
    "# Apply transformations to the test data\n",
    "X_test_transformed = preprocessor.transform(X_test)\n",
    "\n",
    "# Convert the transformed test data to CSR format\n",
    "X_test_transformed_csr = pd.DataFrame(X_test_transformed, columns=['Age','brand','prodCat','Pb','M', 'U', 'G', 'E', 'O'])\n",
    "\n",
    "# Predict outliers on the test set\n",
    "outliers = outlier_model.predict(X_test_transformed_csr)\n",
    "\n",
    "# Filter out the outliers from the test set\n",
    "X_test_filtered = X_test_transformed_csr[outliers == 1]\n",
    "y_test_filtered = y_test[outliers == 1]\n",
    "\n",
    "print(X_train_filtered.shape, X_test_filtered.shape)"
   ]
  },
  {
   "cell_type": "code",
   "execution_count": 110,
   "id": "e2ab9b6c-3953-45c5-8cc0-d0f7159a66fa",
   "metadata": {},
   "outputs": [
    {
     "data": {
      "text/html": [
       "<div>\n",
       "<style scoped>\n",
       "    .dataframe tbody tr th:only-of-type {\n",
       "        vertical-align: middle;\n",
       "    }\n",
       "\n",
       "    .dataframe tbody tr th {\n",
       "        vertical-align: top;\n",
       "    }\n",
       "\n",
       "    .dataframe thead th {\n",
       "        text-align: right;\n",
       "    }\n",
       "</style>\n",
       "<table border=\"1\" class=\"dataframe\">\n",
       "  <thead>\n",
       "    <tr style=\"text-align: right;\">\n",
       "      <th></th>\n",
       "      <th>Age</th>\n",
       "      <th>brand</th>\n",
       "      <th>prodCat</th>\n",
       "      <th>Pb</th>\n",
       "      <th>M</th>\n",
       "      <th>U</th>\n",
       "      <th>G</th>\n",
       "      <th>E</th>\n",
       "      <th>O</th>\n",
       "    </tr>\n",
       "  </thead>\n",
       "  <tbody>\n",
       "    <tr>\n",
       "      <th>0</th>\n",
       "      <td>-0.21188</td>\n",
       "      <td>0.001696</td>\n",
       "      <td>0.011885</td>\n",
       "      <td>0.264486</td>\n",
       "      <td>1.0</td>\n",
       "      <td>0.0</td>\n",
       "      <td>0.0</td>\n",
       "      <td>0.0</td>\n",
       "      <td>0.0</td>\n",
       "    </tr>\n",
       "    <tr>\n",
       "      <th>1</th>\n",
       "      <td>-0.21188</td>\n",
       "      <td>0.424711</td>\n",
       "      <td>0.017827</td>\n",
       "      <td>0.264486</td>\n",
       "      <td>1.0</td>\n",
       "      <td>0.0</td>\n",
       "      <td>0.0</td>\n",
       "      <td>0.0</td>\n",
       "      <td>0.0</td>\n",
       "    </tr>\n",
       "    <tr>\n",
       "      <th>2</th>\n",
       "      <td>-0.21188</td>\n",
       "      <td>0.000773</td>\n",
       "      <td>0.025234</td>\n",
       "      <td>0.175474</td>\n",
       "      <td>0.0</td>\n",
       "      <td>0.0</td>\n",
       "      <td>1.0</td>\n",
       "      <td>0.0</td>\n",
       "      <td>0.0</td>\n",
       "    </tr>\n",
       "  </tbody>\n",
       "</table>\n",
       "</div>"
      ],
      "text/plain": [
       "       Age     brand   prodCat        Pb    M    U    G    E    O\n",
       "0 -0.21188  0.001696  0.011885  0.264486  1.0  0.0  0.0  0.0  0.0\n",
       "1 -0.21188  0.424711  0.017827  0.264486  1.0  0.0  0.0  0.0  0.0\n",
       "2 -0.21188  0.000773  0.025234  0.175474  0.0  0.0  1.0  0.0  0.0"
      ]
     },
     "execution_count": 110,
     "metadata": {},
     "output_type": "execute_result"
    }
   ],
   "source": [
    "X_train_filtered.head(3)"
   ]
  },
  {
   "cell_type": "markdown",
   "id": "7a35798a-5519-403d-a566-1bc2a7d21915",
   "metadata": {},
   "source": [
    "#### Step3. Train classifier  \n",
    "Feature Importance:\r\n",
    "Age: 0.3317\r\n",
    "brand: 0.4081\r\n",
    "prodCat: 0.2373\r\n",
    "Pb: 0.0100"
   ]
  },
  {
   "cell_type": "code",
   "execution_count": 121,
   "id": "55365bc9-fd59-4d32-9b62-7eadeb713030",
   "metadata": {},
   "outputs": [
    {
     "name": "stdout",
     "output_type": "stream",
     "text": [
      "Accuracy: 0.57\n",
      "Precision: 0.58\n",
      "Recall: 0.64\n",
      "F1 Score: 0.61\n",
      "Feature Importance:\n",
      "Age: 0.3317\n",
      "brand: 0.4081\n",
      "prodCat: 0.2373\n",
      "Pb: 0.0100\n",
      "M: 0.0027\n",
      "U: 0.0024\n",
      "G: 0.0044\n",
      "E: 0.0011\n",
      "O: 0.0023\n"
     ]
    }
   ],
   "source": [
    "# Create a RandomForestClassifier\n",
    "classifier = RandomForestClassifier(n_estimators=200, random_state=42)\n",
    "#classifier=LogisticRegression()\n",
    "\n",
    "# Create the pipeline\n",
    "pipeline = Pipeline([('scaler',StandardScaler()),('classifier', classifier)])\n",
    "\n",
    "# Fit the classifier on the transformed training data\n",
    "pipeline.fit(X_train_filtered, y_train_filtered)\n",
    "\n",
    "# Predictions on the test set\n",
    "y_pred = pipeline.predict(X_test_filtered)\n",
    "\n",
    "# Measure accuracy\n",
    "accuracy = accuracy_score(y_test_filtered, y_pred)\n",
    "precision = precision_score(y_test_filtered, y_pred)\n",
    "recall = recall_score(y_test_filtered, y_pred)\n",
    "f1 = f1_score(y_test_filtered, y_pred)\n",
    "\n",
    "print(f\"Accuracy: {accuracy:.2f}\")\n",
    "print(f\"Precision: {precision:.2f}\")\n",
    "print(f\"Recall: {recall:.2f}\")\n",
    "print(f\"F1 Score: {f1:.2f}\")\n",
    "\n",
    "# Get feature importance\n",
    "if isinstance(classifier, RandomForestClassifier):\n",
    "    feature_importance = classifier.feature_importances_\n",
    "    print(\"Feature Importance:\")\n",
    "    for feature, importance in zip(X_train_filtered.columns, feature_importance):\n",
    "        print(f\"{feature}: {importance:.4f}\")\n",
    "\n",
    "# # Optionally, select important features\n",
    "# sfm = SelectFromModel(classifier, threshold=0.1)  # Adjust the threshold as needed\n",
    "# sfm.fit(X_train_transformed, y_train)\n",
    "# selected_features = X_train.columns[sfm.get_support()]\n",
    "# print(\"Selected Features:\")\n",
    "# print(selected_features)\n"
   ]
  },
  {
   "cell_type": "code",
   "execution_count": null,
   "id": "cb40d469-10f9-4562-9545-993fcac0d90e",
   "metadata": {},
   "outputs": [],
   "source": []
  }
 ],
 "metadata": {
  "kernelspec": {
   "display_name": "Python 3 (ipykernel)",
   "language": "python",
   "name": "python3"
  },
  "language_info": {
   "codemirror_mode": {
    "name": "ipython",
    "version": 3
   },
   "file_extension": ".py",
   "mimetype": "text/x-python",
   "name": "python",
   "nbconvert_exporter": "python",
   "pygments_lexer": "ipython3",
   "version": "3.10.0"
  }
 },
 "nbformat": 4,
 "nbformat_minor": 5
}
