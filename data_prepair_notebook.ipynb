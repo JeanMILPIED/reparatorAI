{
 "cells": [
  {
   "cell_type": "markdown",
   "id": "9ac0aec7-b59e-4d20-b4d8-a03fdc544b4c",
   "metadata": {},
   "source": [
    "#### Notebook to prepair raw data  \n",
    "date: 2023"
   ]
  },
  {
   "cell_type": "markdown",
   "id": "e0826005-f295-4d85-8a76-4a84df4033b4",
   "metadata": {},
   "source": [
    "#### Step 0. Imports\n"
   ]
  },
  {
   "cell_type": "code",
   "execution_count": 19,
   "id": "3e75ddee-8444-4925-900e-1bc0cb348830",
   "metadata": {},
   "outputs": [
    {
     "ename": "ModuleNotFoundError",
     "evalue": "No module named 'tqdm'",
     "output_type": "error",
     "traceback": [
      "\u001b[1;31m---------------------------------------------------------------------------\u001b[0m",
      "\u001b[1;31mModuleNotFoundError\u001b[0m                       Traceback (most recent call last)",
      "Cell \u001b[1;32mIn[19], line 3\u001b[0m\n\u001b[0;32m      1\u001b[0m \u001b[38;5;28;01mimport\u001b[39;00m \u001b[38;5;21;01mpandas\u001b[39;00m \u001b[38;5;28;01mas\u001b[39;00m \u001b[38;5;21;01mpd\u001b[39;00m  \n\u001b[0;32m      2\u001b[0m \u001b[38;5;28;01mimport\u001b[39;00m \u001b[38;5;21;01mnumpy\u001b[39;00m \u001b[38;5;28;01mas\u001b[39;00m \u001b[38;5;21;01mnp\u001b[39;00m  \n\u001b[1;32m----> 3\u001b[0m \u001b[38;5;28;01mfrom\u001b[39;00m \u001b[38;5;21;01mtqdm\u001b[39;00m \u001b[38;5;28;01mimport\u001b[39;00m tqdm\n\u001b[0;32m      4\u001b[0m \u001b[38;5;28;01mimport\u001b[39;00m \u001b[38;5;21;01mos\u001b[39;00m\n\u001b[0;32m      5\u001b[0m \u001b[38;5;28;01mimport\u001b[39;00m \u001b[38;5;21;01mrandom\u001b[39;00m\n",
      "\u001b[1;31mModuleNotFoundError\u001b[0m: No module named 'tqdm'"
     ]
    }
   ],
   "source": [
    "import pandas as pd  \n",
    "import numpy as np  \n",
    "from tqdm import tqdm\n",
    "import os\n",
    "import random"
   ]
  },
  {
   "cell_type": "code",
   "execution_count": 2,
   "id": "06c617ef-7741-4bde-b788-c9fd58e45746",
   "metadata": {},
   "outputs": [],
   "source": [
    "os.chdir(r\"C:\\Users\\Administrateur\\OneDrive\\Documents\\GitHub\\reparatorAI\")"
   ]
  },
  {
   "cell_type": "markdown",
   "id": "f37f7ad6-93cf-46d6-986f-42aa301991d9",
   "metadata": {},
   "source": [
    "#### Step1. Functions  "
   ]
  },
  {
   "cell_type": "code",
   "execution_count": 60,
   "id": "ea53d62c-4f80-4c08-91a3-d43215a48eb0",
   "metadata": {},
   "outputs": [],
   "source": [
    "def first_clean_df(df):\n",
    "    df_ok = df.copy()\n",
    "    df_ok['brand']=['-'.join(str(my_brand).upper().strip().split(' ')[0:1]) for my_brand in df_ok.brand]\n",
    "    df_ok['product_category']=[str(my_val).upper().strip() for my_val in df_ok.product_category]\n",
    "    my_brand_low_freq = df_ok.brand.value_counts()[df_ok.brand.value_counts() < 5].index.tolist()\n",
    "    df_ok = df_ok[df_ok.brand.isin(my_brand_low_freq) == False]\n",
    "    df_ok['repair_barrier_if_end_of_life'] = df_ok['repair_barrier_if_end_of_life'].fillna('Unspecified')\n",
    "    return df_ok"
   ]
  },
  {
   "cell_type": "markdown",
   "id": "8834b0f4-2fb2-4aa9-889f-64ff6a95bcf3",
   "metadata": {},
   "source": [
    "#### Step2. Datasets  "
   ]
  },
  {
   "cell_type": "code",
   "execution_count": 14,
   "id": "ad8da1fe-26a9-491d-a6e0-b6824954d3f5",
   "metadata": {},
   "outputs": [],
   "source": [
    "raw=pd.read_csv('./data/OpenRepairData_v0.3_aggregate_202309.csv', encoding='latin', low_memory=False)"
   ]
  },
  {
   "cell_type": "code",
   "execution_count": 15,
   "id": "7b8c240b-d9af-4ea7-aa80-abbb241ae9b8",
   "metadata": {},
   "outputs": [
    {
     "data": {
      "text/plain": [
       "(133426, 14)"
      ]
     },
     "execution_count": 15,
     "metadata": {},
     "output_type": "execute_result"
    }
   ],
   "source": [
    "raw.shape"
   ]
  },
  {
   "cell_type": "code",
   "execution_count": 16,
   "id": "fbf14474-ce69-4892-9b08-ae6fc09f5d3b",
   "metadata": {},
   "outputs": [
    {
     "data": {
      "text/plain": [
       "Index(['id', 'data_provider', 'country', 'partner_product_category',\n",
       "       'product_category', 'product_category_id', 'brand',\n",
       "       'year_of_manufacture', 'product_age', 'repair_status',\n",
       "       'repair_barrier_if_end_of_life', 'group_identifier', 'event_date',\n",
       "       'problem'],\n",
       "      dtype='object')"
      ]
     },
     "execution_count": 16,
     "metadata": {},
     "output_type": "execute_result"
    }
   ],
   "source": [
    "raw.columns"
   ]
  },
  {
   "cell_type": "code",
   "execution_count": 10,
   "id": "ac587c22-c537-4e90-84da-d139a82c922e",
   "metadata": {},
   "outputs": [],
   "source": [
    "old=pd.read_csv('./data/OpenRepairData_v0.3_aggregate_202303.csv', index_col=0, encoding='latin', low_memory=False)"
   ]
  },
  {
   "cell_type": "code",
   "execution_count": 11,
   "id": "fff2e2e9-8356-47dd-bff1-ec3ea9f7a793",
   "metadata": {},
   "outputs": [
    {
     "data": {
      "text/plain": [
       "(103076, 21)"
      ]
     },
     "execution_count": 11,
     "metadata": {},
     "output_type": "execute_result"
    }
   ],
   "source": [
    "old.shape"
   ]
  },
  {
   "cell_type": "code",
   "execution_count": 13,
   "id": "48647f07-a7cc-43d9-9aac-a58a472f247f",
   "metadata": {},
   "outputs": [
    {
     "data": {
      "text/plain": [
       "Index(['id', 'data_provider', 'country', 'partner_product_category',\n",
       "       'product_category', 'product_category_id', 'brand',\n",
       "       'year_of_manufacture', 'product_age', 'repair_status',\n",
       "       'repair_barrier_if_end_of_life', 'group_identifier', 'event_date',\n",
       "       'problem', 'product_category_new', 'brand_ok', 'TopCategory',\n",
       "       'problem_class', 'TopCategory_FR', 'product_category_FR',\n",
       "       'problem_class_main'],\n",
       "      dtype='object')"
      ]
     },
     "execution_count": 13,
     "metadata": {},
     "output_type": "execute_result"
    }
   ],
   "source": [
    "old.columns"
   ]
  },
  {
   "cell_type": "code",
   "execution_count": 18,
   "id": "fb7261c1-daee-4e94-b1d0-c90dadb9dadb",
   "metadata": {},
   "outputs": [],
   "source": [
    "selectObjectList_UK=['POWER TOOL', 'TOY', 'HAIR DRYER', 'DECORATIVE OR SAFETY LIGHTS', 'LAMP',\n",
    " 'PORTABLE RADIO', 'HANDHELD ENTERTAINMENT DEVICE', 'FOOD PROCESSOR', 'SMALL HOME ELECTRICAL',\n",
    " 'HAIR & BEAUTY ITEM', 'MISC', 'SEWING MACHINE', 'WATCH/CLOCK', 'HI-FI SEPARATES',\n",
    " 'DESKTOP COMPUTER', 'BATTERY/CHARGER/ADAPTER', 'SMALL KITCHEN ITEM', 'VACUUM',\n",
    " 'TV AND GAMING-RELATED ACCESSORIES', 'COFFEE MAKER', 'KETTLE', 'IRON',\n",
    " 'DIGITAL COMPACT CAMERA', 'PRINTER/SCANNER', 'LAPTOP', 'HI-FI INTEGRATED',\n",
    " 'PAPER SHREDDER', 'TOASTER', 'FLAT SCREEN', 'MOBILE', 'TABLET', 'DSLR/VIDEO CAMERA',\n",
    " 'HEADPHONES', 'LARGE HOME ELECTRICAL', 'MUSICAL INSTRUMENT', 'PROJECTOR',\n",
    " 'PC ACCESSORY', 'AIRCON/DEHUMIDIFIER', 'FAN', 'GAMES CONSOLE']\n",
    "\n",
    "selectObjectList_FR=['Outil Bricolage', 'Jouet', 'Sèche cheveux', 'Luminaires et guirlandes déco',\n",
    " 'Lampe', 'Radio portable', 'Appareil de divertissement portable', 'Robot de cuisine', 'Petit électroménager de maison',\n",
    " 'équipement pour cheveux & beauté', 'Divers', 'Machine à coudre', 'Montre / Réveil', 'Composants HI-Fi', 'Ordinateur de Bureau',\n",
    " 'Batterie / chargeur / adaptateur', 'Petit électroménager de cuisine', 'Aspirateur', 'accessoire TV et jeux videos', 'Machine à café',\n",
    " 'Bouilloire', 'Fer à repasser', 'Appareil photo numérique', 'Imprimante / scanner', 'Ordinateur portable', 'Hi-Fi', 'Broyeuse à papier',\n",
    " 'Grille pains', 'Ecran plat', 'Téléphone portable', 'Tablette', 'Camescope', 'Ecouteurs', 'Gros électroménager',\n",
    " 'Instrument de musique', 'Vidéo projecteur', 'Accessoire PC', 'Climatiseur / déshumidificateur', 'Ventilateur', 'Console de jeux vidéo']\n",
    "selectObjectList_FR=[my_str.upper() for my_str in selectObjectList_FR]"
   ]
  },
  {
   "cell_type": "code",
   "execution_count": 19,
   "id": "cbc11713-9ce6-4ea8-bca2-047d99cba1ea",
   "metadata": {},
   "outputs": [],
   "source": [
    "topCategory_uk=['BATHROOM', 'ELECTRONICS', 'HOME', 'IMAGE', 'KITCHEN', 'OFFICE', 'OTHER', 'SOUND']\n",
    "topCategory_fr=['SALLE DE BAIN','ELECTRONIQUE','MAISON','IMAGE','CUISINE','BUREAU','AUTRES','SON']"
   ]
  },
  {
   "cell_type": "markdown",
   "id": "6c52d61b-2d0f-4dd6-be2f-69e918aee1ed",
   "metadata": {},
   "source": [
    "#### Step3. final treatment and saving  \n",
    "New columns to create : 'product_category_new', 'brand_ok', 'TopCategory',\r\n",
    "       'problem_class', 'TopCategory_FR', 'product_category_FR',\r\n",
    "       'problem_class_main'"
   ]
  },
  {
   "cell_type": "markdown",
   "id": "30a0f6ee-e6b8-4f56-bb55-d471743fc3a4",
   "metadata": {},
   "source": [
    "##### step3.1: create dict objects to map the final dataset   \n"
   ]
  },
  {
   "cell_type": "code",
   "execution_count": 49,
   "id": "864a8690-d0c4-4a23-a725-19bf03bc8ae0",
   "metadata": {},
   "outputs": [],
   "source": [
    "dict_topCategory=old.groupby(by=['TopCategory','product_category_new']).count().iloc[:,0].index.tolist()\n",
    "dict_topCategory_all={}\n",
    "for obj in dict_topCategory:\n",
    "    dict_topCategory_all[obj[1]]=obj[0]"
   ]
  },
  {
   "cell_type": "code",
   "execution_count": 39,
   "id": "7450dc0c-fc31-404c-bab2-16454ee7b108",
   "metadata": {},
   "outputs": [],
   "source": [
    "dict_topCategory_ENtoFR={}\n",
    "for i in range(len(topCategory_uk)):\n",
    "    dict_topCategory_ENtoFR[topCategory_uk[i]]=topCategory_fr[i]"
   ]
  },
  {
   "cell_type": "code",
   "execution_count": 41,
   "id": "f7921d5b-fee1-4d8e-bf8a-61bbf393fd15",
   "metadata": {},
   "outputs": [],
   "source": [
    "dict_objList_ENtoFR={}\n",
    "for i in range(len(selectObjectList_UK)):\n",
    "    dict_objList_ENtoFR[selectObjectList_UK[i]]=selectObjectList_FR[i]"
   ]
  },
  {
   "cell_type": "markdown",
   "id": "a6de72d3-81e9-41ea-bb3e-e4b4cb2fea64",
   "metadata": {},
   "source": [
    "##### step3.2: map clean dataset with dict objects"
   ]
  },
  {
   "cell_type": "code",
   "execution_count": 61,
   "id": "5873f4ab-89b2-44e9-bb90-27422b792126",
   "metadata": {},
   "outputs": [],
   "source": [
    "new=first_clean_df(raw)\n",
    "new[\"TopCategory\"]=new[\"product_category\"].map(dict_topCategory_all)\n",
    "new[\"TopCategory_FR\"]=new[\"TopCategory\"].map(dict_topCategory_ENtoFR)\n",
    "new[\"product_category_FR\"]=new[\"product_category\"].map(dict_objList_ENtoFR)"
   ]
  },
  {
   "cell_type": "code",
   "execution_count": 62,
   "id": "f62c1c59-df86-48ba-abd6-9269bcb17bda",
   "metadata": {},
   "outputs": [
    {
     "data": {
      "text/html": [
       "<div>\n",
       "<style scoped>\n",
       "    .dataframe tbody tr th:only-of-type {\n",
       "        vertical-align: middle;\n",
       "    }\n",
       "\n",
       "    .dataframe tbody tr th {\n",
       "        vertical-align: top;\n",
       "    }\n",
       "\n",
       "    .dataframe thead th {\n",
       "        text-align: right;\n",
       "    }\n",
       "</style>\n",
       "<table border=\"1\" class=\"dataframe\">\n",
       "  <thead>\n",
       "    <tr style=\"text-align: right;\">\n",
       "      <th></th>\n",
       "      <th>id</th>\n",
       "      <th>data_provider</th>\n",
       "      <th>country</th>\n",
       "      <th>partner_product_category</th>\n",
       "      <th>product_category</th>\n",
       "      <th>product_category_id</th>\n",
       "      <th>brand</th>\n",
       "      <th>year_of_manufacture</th>\n",
       "      <th>product_age</th>\n",
       "      <th>repair_status</th>\n",
       "      <th>repair_barrier_if_end_of_life</th>\n",
       "      <th>group_identifier</th>\n",
       "      <th>event_date</th>\n",
       "      <th>problem</th>\n",
       "      <th>TopCategory</th>\n",
       "      <th>TopCategory_FR</th>\n",
       "      <th>product_category_FR</th>\n",
       "    </tr>\n",
       "  </thead>\n",
       "  <tbody>\n",
       "    <tr>\n",
       "      <th>0</th>\n",
       "      <td>anstiftung_2746</td>\n",
       "      <td>anstiftung</td>\n",
       "      <td>DEU</td>\n",
       "      <td>Computer ~ Drucker</td>\n",
       "      <td>PRINTER/SCANNER</td>\n",
       "      <td>25</td>\n",
       "      <td>UNKNOWN</td>\n",
       "      <td>NaN</td>\n",
       "      <td>NaN</td>\n",
       "      <td>Fixed</td>\n",
       "      <td>Unspecified</td>\n",
       "      <td>5073</td>\n",
       "      <td>2012-06-20</td>\n",
       "      <td>Funktionierte nicht mehr. Fehler und LÃ¶sung n...</td>\n",
       "      <td>OFFICE</td>\n",
       "      <td>BUREAU</td>\n",
       "      <td>IMPRIMANTE / SCANNER</td>\n",
       "    </tr>\n",
       "    <tr>\n",
       "      <th>1</th>\n",
       "      <td>anstiftung_2747</td>\n",
       "      <td>anstiftung</td>\n",
       "      <td>DEU</td>\n",
       "      <td>Unterhaltungselektronik ~ KopfhÃ¶rer</td>\n",
       "      <td>HEADPHONES</td>\n",
       "      <td>11</td>\n",
       "      <td>UNKNOWN</td>\n",
       "      <td>NaN</td>\n",
       "      <td>NaN</td>\n",
       "      <td>Fixed</td>\n",
       "      <td>Unspecified</td>\n",
       "      <td>5073</td>\n",
       "      <td>2012-06-20</td>\n",
       "      <td>Funktionierte nicht mehr. Fehler und LÃ¶sung n...</td>\n",
       "      <td>SOUND</td>\n",
       "      <td>SON</td>\n",
       "      <td>ECOUTEURS</td>\n",
       "    </tr>\n",
       "    <tr>\n",
       "      <th>2</th>\n",
       "      <td>anstiftung_2750</td>\n",
       "      <td>anstiftung</td>\n",
       "      <td>DEU</td>\n",
       "      <td>Computer ~ Laptop</td>\n",
       "      <td>LAPTOP</td>\n",
       "      <td>16</td>\n",
       "      <td>UNKNOWN</td>\n",
       "      <td>NaN</td>\n",
       "      <td>NaN</td>\n",
       "      <td>Repairable</td>\n",
       "      <td>Unspecified</td>\n",
       "      <td>5073</td>\n",
       "      <td>2012-06-20</td>\n",
       "      <td>Wurde schnell heiÃ. Der LÃ¼fter war sehr vers...</td>\n",
       "      <td>ELECTRONICS</td>\n",
       "      <td>ELECTRONIQUE</td>\n",
       "      <td>ORDINATEUR PORTABLE</td>\n",
       "    </tr>\n",
       "    <tr>\n",
       "      <th>3</th>\n",
       "      <td>anstiftung_2749</td>\n",
       "      <td>anstiftung</td>\n",
       "      <td>DEU</td>\n",
       "      <td>Elektro divers ~ NÃ¤hmaschine</td>\n",
       "      <td>SEWING MACHINE</td>\n",
       "      <td>27</td>\n",
       "      <td>UNKNOWN</td>\n",
       "      <td>NaN</td>\n",
       "      <td>NaN</td>\n",
       "      <td>Repairable</td>\n",
       "      <td>Unspecified</td>\n",
       "      <td>5073</td>\n",
       "      <td>2012-06-20</td>\n",
       "      <td>Funktionierte nicht mehr. Fehler und LÃ¶sung n...</td>\n",
       "      <td>HOME</td>\n",
       "      <td>MAISON</td>\n",
       "      <td>MACHINE À COUDRE</td>\n",
       "    </tr>\n",
       "    <tr>\n",
       "      <th>4</th>\n",
       "      <td>anstiftung_2742</td>\n",
       "      <td>anstiftung</td>\n",
       "      <td>DEU</td>\n",
       "      <td>HaushaltsgerÃ¤te ~ Spielzeug</td>\n",
       "      <td>TOY</td>\n",
       "      <td>32</td>\n",
       "      <td>UNKNOWN</td>\n",
       "      <td>NaN</td>\n",
       "      <td>NaN</td>\n",
       "      <td>Fixed</td>\n",
       "      <td>Unspecified</td>\n",
       "      <td>5073</td>\n",
       "      <td>2012-09-19</td>\n",
       "      <td>Die Beine der Puppe waren ab. Sie waren mit FÃ...</td>\n",
       "      <td>OTHER</td>\n",
       "      <td>AUTRES</td>\n",
       "      <td>JOUET</td>\n",
       "    </tr>\n",
       "  </tbody>\n",
       "</table>\n",
       "</div>"
      ],
      "text/plain": [
       "                id data_provider country  \\\n",
       "0  anstiftung_2746    anstiftung     DEU   \n",
       "1  anstiftung_2747    anstiftung     DEU   \n",
       "2  anstiftung_2750    anstiftung     DEU   \n",
       "3  anstiftung_2749    anstiftung     DEU   \n",
       "4  anstiftung_2742    anstiftung     DEU   \n",
       "\n",
       "               partner_product_category product_category  product_category_id  \\\n",
       "0                    Computer ~ Drucker  PRINTER/SCANNER                   25   \n",
       "1  Unterhaltungselektronik ~ KopfhÃ¶rer       HEADPHONES                   11   \n",
       "2                     Computer ~ Laptop           LAPTOP                   16   \n",
       "3         Elektro divers ~ NÃ¤hmaschine   SEWING MACHINE                   27   \n",
       "4          HaushaltsgerÃ¤te ~ Spielzeug              TOY                   32   \n",
       "\n",
       "     brand  year_of_manufacture  product_age repair_status  \\\n",
       "0  UNKNOWN                  NaN          NaN         Fixed   \n",
       "1  UNKNOWN                  NaN          NaN         Fixed   \n",
       "2  UNKNOWN                  NaN          NaN    Repairable   \n",
       "3  UNKNOWN                  NaN          NaN    Repairable   \n",
       "4  UNKNOWN                  NaN          NaN         Fixed   \n",
       "\n",
       "  repair_barrier_if_end_of_life group_identifier  event_date  \\\n",
       "0                   Unspecified             5073  2012-06-20   \n",
       "1                   Unspecified             5073  2012-06-20   \n",
       "2                   Unspecified             5073  2012-06-20   \n",
       "3                   Unspecified             5073  2012-06-20   \n",
       "4                   Unspecified             5073  2012-09-19   \n",
       "\n",
       "                                             problem  TopCategory  \\\n",
       "0  Funktionierte nicht mehr. Fehler und LÃ¶sung n...       OFFICE   \n",
       "1  Funktionierte nicht mehr. Fehler und LÃ¶sung n...        SOUND   \n",
       "2  Wurde schnell heiÃ. Der LÃ¼fter war sehr vers...  ELECTRONICS   \n",
       "3  Funktionierte nicht mehr. Fehler und LÃ¶sung n...         HOME   \n",
       "4  Die Beine der Puppe waren ab. Sie waren mit FÃ...        OTHER   \n",
       "\n",
       "  TopCategory_FR   product_category_FR  \n",
       "0         BUREAU  IMPRIMANTE / SCANNER  \n",
       "1            SON             ECOUTEURS  \n",
       "2   ELECTRONIQUE   ORDINATEUR PORTABLE  \n",
       "3         MAISON      MACHINE À COUDRE  \n",
       "4         AUTRES                 JOUET  "
      ]
     },
     "execution_count": 62,
     "metadata": {},
     "output_type": "execute_result"
    }
   ],
   "source": [
    "new.head()"
   ]
  },
  {
   "cell_type": "code",
   "execution_count": 63,
   "id": "3482ee7a-2631-4d6a-b443-2204e60f3077",
   "metadata": {},
   "outputs": [
    {
     "data": {
      "text/plain": [
       "(123217, 17)"
      ]
     },
     "execution_count": 63,
     "metadata": {},
     "output_type": "execute_result"
    }
   ],
   "source": [
    "new.shape"
   ]
  },
  {
   "cell_type": "markdown",
   "id": "9f825940-9b7e-4a34-a668-7febb62a69c0",
   "metadata": {},
   "source": [
    "##### step3.3: map key words to create clean keywords columns  \n",
    "1. clean kw dataset - done\n",
    "2. build proper columns: problem_class and problem_class_main"
   ]
  },
  {
   "cell_type": "code",
   "execution_count": 79,
   "id": "cf0f1e66-fbdb-401a-919b-5abcc60e9dcf",
   "metadata": {},
   "outputs": [],
   "source": [
    "kw=pd.read_csv('./data/kw_tot_clean.csv', index_col=0)\n",
    "kw_clean=kw.dropna(subset=\"CLASS1\", axis=0)"
   ]
  },
  {
   "cell_type": "code",
   "execution_count": 82,
   "id": "4aa38e09-26c3-441c-8b98-0b08fff428d1",
   "metadata": {},
   "outputs": [],
   "source": [
    "word_category_mapping = dict(zip(kw_clean['original'], kw_clean['CLASS1']))"
   ]
  },
  {
   "cell_type": "code",
   "execution_count": 95,
   "id": "e8e0dc70-de86-4c27-8022-986de491e505",
   "metadata": {},
   "outputs": [
    {
     "name": "stderr",
     "output_type": "stream",
     "text": [
      "100%|███████████████████████████████████████████████████████████████████████| 123217/123217 [00:01<00:00, 76507.37it/s]\n"
     ]
    }
   ],
   "source": [
    "# Initialize a defaultdict to store category counts for each sentence\n",
    "\n",
    "results=[]\n",
    "# Iterate over each sentence in datasetB\n",
    "for i in tqdm(range(new.shape[0])):\n",
    "    sentence=new['problem'].iloc[i]\n",
    "    try:\n",
    "        # Tokenize the sentence into words\n",
    "        words = sentence.split()\n",
    "        # Count categories for each word in the sentence\n",
    "        sentence_category_counts = {}\n",
    "        for word in words:\n",
    "            word=word.upper()\n",
    "            if word in word_category_mapping:\n",
    "                category = word_category_mapping[word]\n",
    "                try:\n",
    "                    sentence_category_counts[category] += 1\n",
    "                except: \n",
    "                    sentence_category_counts[category] = 1\n",
    "    except:\n",
    "        sentence_category_counts={}\n",
    "    results.append(sentence_category_counts)"
   ]
  },
  {
   "cell_type": "code",
   "execution_count": 97,
   "id": "c1764a98-7397-477f-b02c-95034e294808",
   "metadata": {},
   "outputs": [],
   "source": [
    "new['problem_class']=results"
   ]
  },
  {
   "cell_type": "code",
   "execution_count": 104,
   "id": "48c61a9f-60b4-4d5a-b3b7-2a08e24570da",
   "metadata": {},
   "outputs": [],
   "source": [
    "def get_keys_with_max_count(dictionary):\n",
    "    if pd.isnull(dictionary) or not dictionary:\n",
    "        return 'U' #unknown\n",
    "    \n",
    "    # Find the key(s) with the maximum count\n",
    "    max_keys = max(dictionary, key=dictionary.get, default=None)\n",
    "    \n",
    "    # If max_keys is not None, return it; otherwise, return an empty list\n",
    "    return [max_keys][0] if max_keys is not None else 'U'"
   ]
  },
  {
   "cell_type": "code",
   "execution_count": 105,
   "id": "bfdeaad3-a8f5-451f-8bd1-a512e4b78a83",
   "metadata": {},
   "outputs": [],
   "source": [
    "new['problem_class_main']=new['problem_class'].apply(lambda x: get_keys_with_max_count(x))"
   ]
  },
  {
   "cell_type": "markdown",
   "id": "9e88506b-a8f0-44e7-b337-b4c6cd3472e2",
   "metadata": {},
   "source": [
    "##### Step3.4: save the dataset  "
   ]
  },
  {
   "cell_type": "code",
   "execution_count": 107,
   "id": "f134f552-defd-44f5-9fc7-a6c6f7069abc",
   "metadata": {},
   "outputs": [],
   "source": [
    "new.to_csv(r'./data/OpenRepairData_v0.3_aggregate_202309.csv')"
   ]
  },
  {
   "cell_type": "markdown",
   "id": "f7d598c3-2f8a-4d2c-be8a-02a3b37c5b54",
   "metadata": {},
   "source": [
    "#### Step4. clean the brands  \n"
   ]
  },
  {
   "cell_type": "code",
   "execution_count": 3,
   "id": "04a33194-b613-4084-ab64-fdd419c036d2",
   "metadata": {},
   "outputs": [],
   "source": [
    "df=pd.read_csv(r'./data/OpenRepairData_v0.3_aggregate_202309.csv', index_col=0)"
   ]
  },
  {
   "cell_type": "code",
   "execution_count": 4,
   "id": "e95e6803-7754-4d69-b5cd-96ff15040abd",
   "metadata": {},
   "outputs": [
    {
     "data": {
      "text/html": [
       "<div>\n",
       "<style scoped>\n",
       "    .dataframe tbody tr th:only-of-type {\n",
       "        vertical-align: middle;\n",
       "    }\n",
       "\n",
       "    .dataframe tbody tr th {\n",
       "        vertical-align: top;\n",
       "    }\n",
       "\n",
       "    .dataframe thead th {\n",
       "        text-align: right;\n",
       "    }\n",
       "</style>\n",
       "<table border=\"1\" class=\"dataframe\">\n",
       "  <thead>\n",
       "    <tr style=\"text-align: right;\">\n",
       "      <th></th>\n",
       "      <th>id</th>\n",
       "      <th>data_provider</th>\n",
       "      <th>country</th>\n",
       "      <th>partner_product_category</th>\n",
       "      <th>product_category</th>\n",
       "      <th>product_category_id</th>\n",
       "      <th>brand</th>\n",
       "      <th>year_of_manufacture</th>\n",
       "      <th>product_age</th>\n",
       "      <th>repair_status</th>\n",
       "      <th>repair_barrier_if_end_of_life</th>\n",
       "      <th>group_identifier</th>\n",
       "      <th>event_date</th>\n",
       "      <th>problem</th>\n",
       "      <th>TopCategory</th>\n",
       "      <th>TopCategory_FR</th>\n",
       "      <th>product_category_FR</th>\n",
       "      <th>problem_class</th>\n",
       "      <th>problem_class_main</th>\n",
       "    </tr>\n",
       "  </thead>\n",
       "  <tbody>\n",
       "    <tr>\n",
       "      <th>0</th>\n",
       "      <td>anstiftung_2746</td>\n",
       "      <td>anstiftung</td>\n",
       "      <td>DEU</td>\n",
       "      <td>Computer ~ Drucker</td>\n",
       "      <td>PRINTER/SCANNER</td>\n",
       "      <td>25</td>\n",
       "      <td>UNKNOWN</td>\n",
       "      <td>NaN</td>\n",
       "      <td>NaN</td>\n",
       "      <td>Fixed</td>\n",
       "      <td>Unspecified</td>\n",
       "      <td>5073</td>\n",
       "      <td>2012-06-20</td>\n",
       "      <td>Funktionierte nicht mehr. Fehler und LÃ¶sung n...</td>\n",
       "      <td>OFFICE</td>\n",
       "      <td>BUREAU</td>\n",
       "      <td>IMPRIMANTE / SCANNER</td>\n",
       "      <td>{'G': 1, 'E': 1}</td>\n",
       "      <td>G</td>\n",
       "    </tr>\n",
       "    <tr>\n",
       "      <th>1</th>\n",
       "      <td>anstiftung_2747</td>\n",
       "      <td>anstiftung</td>\n",
       "      <td>DEU</td>\n",
       "      <td>Unterhaltungselektronik ~ KopfhÃ¶rer</td>\n",
       "      <td>HEADPHONES</td>\n",
       "      <td>11</td>\n",
       "      <td>UNKNOWN</td>\n",
       "      <td>NaN</td>\n",
       "      <td>NaN</td>\n",
       "      <td>Fixed</td>\n",
       "      <td>Unspecified</td>\n",
       "      <td>5073</td>\n",
       "      <td>2012-06-20</td>\n",
       "      <td>Funktionierte nicht mehr. Fehler und LÃ¶sung n...</td>\n",
       "      <td>SOUND</td>\n",
       "      <td>SON</td>\n",
       "      <td>ECOUTEURS</td>\n",
       "      <td>{'G': 1, 'E': 1}</td>\n",
       "      <td>G</td>\n",
       "    </tr>\n",
       "  </tbody>\n",
       "</table>\n",
       "</div>"
      ],
      "text/plain": [
       "                id data_provider country  \\\n",
       "0  anstiftung_2746    anstiftung     DEU   \n",
       "1  anstiftung_2747    anstiftung     DEU   \n",
       "\n",
       "               partner_product_category product_category  product_category_id  \\\n",
       "0                    Computer ~ Drucker  PRINTER/SCANNER                   25   \n",
       "1  Unterhaltungselektronik ~ KopfhÃ¶rer       HEADPHONES                   11   \n",
       "\n",
       "     brand  year_of_manufacture  product_age repair_status  \\\n",
       "0  UNKNOWN                  NaN          NaN         Fixed   \n",
       "1  UNKNOWN                  NaN          NaN         Fixed   \n",
       "\n",
       "  repair_barrier_if_end_of_life group_identifier  event_date  \\\n",
       "0                   Unspecified             5073  2012-06-20   \n",
       "1                   Unspecified             5073  2012-06-20   \n",
       "\n",
       "                                             problem TopCategory  \\\n",
       "0  Funktionierte nicht mehr. Fehler und LÃ¶sung n...      OFFICE   \n",
       "1  Funktionierte nicht mehr. Fehler und LÃ¶sung n...       SOUND   \n",
       "\n",
       "  TopCategory_FR   product_category_FR     problem_class problem_class_main  \n",
       "0         BUREAU  IMPRIMANTE / SCANNER  {'G': 1, 'E': 1}                  G  \n",
       "1            SON             ECOUTEURS  {'G': 1, 'E': 1}                  G  "
      ]
     },
     "execution_count": 4,
     "metadata": {},
     "output_type": "execute_result"
    }
   ],
   "source": [
    "df.head(2)"
   ]
  },
  {
   "cell_type": "code",
   "execution_count": 5,
   "id": "61cc29b8-ffde-4677-8458-3aac7bf373bc",
   "metadata": {},
   "outputs": [
    {
     "data": {
      "text/plain": [
       "brand\n",
       "UNKNOWN      48619\n",
       "PHILIPS       7318\n",
       "BOSCH         2638\n",
       "SONY          2603\n",
       "HP            2235\n",
       "             ...  \n",
       "ENFIELD          5\n",
       "WESCO            5\n",
       "MI               5\n",
       "ABC              5\n",
       "CYBERHOME        5\n",
       "Name: count, Length: 1299, dtype: int64"
      ]
     },
     "execution_count": 5,
     "metadata": {},
     "output_type": "execute_result"
    }
   ],
   "source": [
    "df.brand.value_counts()"
   ]
  },
  {
   "cell_type": "code",
   "execution_count": 6,
   "id": "fa3d84e7-aa3f-4a4a-9802-06a30aa9814f",
   "metadata": {},
   "outputs": [],
   "source": [
    "list_brand_unique=df.brand.unique()"
   ]
  },
  {
   "cell_type": "code",
   "execution_count": 11,
   "id": "66df3fc6-08c9-48ec-8d3f-544ed6b4ecc4",
   "metadata": {},
   "outputs": [],
   "source": [
    "from difflib import SequenceMatcher\n",
    "from collections import Counter\n",
    "\n",
    "def get_similarity_score(str1, str2):\n",
    "    return SequenceMatcher(None, str1, str2).ratio()\n",
    "\n",
    "def find_similar_brands(brand_list):\n",
    "    similar_brands_dict = {}\n",
    "\n",
    "    for i in tqdm(range(len(brand_list))):\n",
    "        current_brand = brand_list[i]\n",
    "        similar_brands = {}\n",
    "\n",
    "        for j in range(len(brand_list)):\n",
    "            if i != j:\n",
    "                other_brand = brand_list[j]\n",
    "                similarity_score = get_similarity_score(current_brand, other_brand)\n",
    "\n",
    "                # You can adjust the threshold as needed\n",
    "                if similarity_score >= 0.9:\n",
    "                    similar_brands[other_brand] = similarity_score\n",
    "\n",
    "        if similar_brands:\n",
    "            similar_brands_dict[current_brand] = similar_brands\n",
    "\n",
    "    return similar_brands_dict"
   ]
  },
  {
   "cell_type": "code",
   "execution_count": 20,
   "id": "0e95e498-f7e1-4a70-b941-b8903cc0c4b6",
   "metadata": {},
   "outputs": [],
   "source": [
    "def clean_brand_list(brands):\n",
    "    brand_frequencies = Counter(brands)\n",
    "    unique_brands = list(set(brands))\n",
    "    similar_brands_dict = find_similar_brands(unique_brands)\n",
    "\n",
    "    for current_brand, similar_brands in similar_brands_dict.items():\n",
    "        if similar_brands:\n",
    "            most_frequent_brand = max([current_brand] + list(similar_brands), key=lambda x: brand_frequencies[x])\n",
    "\n",
    "            for brand in similar_brands:\n",
    "                if brand_frequencies[brand] < brand_frequencies[most_frequent_brand]:\n",
    "                    # Replace low-frequency brands with the most frequent one\n",
    "                    brands = [most_frequent_brand if x == brand else x for x in brands]\n",
    "\n",
    "    return brands"
   ]
  },
  {
   "cell_type": "code",
   "execution_count": 21,
   "id": "b3a0feec-eb04-46a3-929a-cc9eb6d7ec31",
   "metadata": {},
   "outputs": [
    {
     "name": "stderr",
     "output_type": "stream",
     "text": [
      "100%|██████████████████████████████████████████████████████████████████████████████| 1299/1299 [00:24<00:00, 52.22it/s]\n"
     ]
    }
   ],
   "source": [
    "new_brands=clean_brand_list(df.brand.tolist())"
   ]
  },
  {
   "cell_type": "code",
   "execution_count": 26,
   "id": "b9fff87f-25be-45da-8cb0-090aa78e5b65",
   "metadata": {},
   "outputs": [],
   "source": [
    "df[\"brand\"]=new_brands\n",
    "df.to_csv(r'./data/OpenRepairData_v0.3_aggregate_202309.csv')"
   ]
  },
  {
   "cell_type": "code",
   "execution_count": 1,
   "id": "939473d4-c287-4ca2-b600-6f4d650656b1",
   "metadata": {},
   "outputs": [],
   "source": [
    "selectObjectList_FR=['Outil Bricolage', 'Jouet', 'Sèche cheveux', 'Luminaires et guirlandes déco',\n",
    " 'Lampe', 'Radio portable', 'Appareil de divertissement portable', 'Robot de cuisine', 'Petit électroménager de maison',\n",
    " 'équipement pour cheveux & beauté', 'Divers', 'Machine à coudre', 'Montre / Réveil', 'Composants HI-Fi', 'Ordinateur de Bureau',\n",
    " 'Batterie / chargeur / adaptateur', 'Petit électroménager de cuisine', 'Aspirateur', 'accessoire TV et jeux videos', 'Machine à café',\n",
    " 'Bouilloire', 'Fer à repasser', 'Appareil photo numérique', 'Imprimante / scanner', 'Ordinateur portable', 'Hi-Fi', 'Broyeuse à papier',\n",
    " 'Grille pains', 'Ecran plat', 'Téléphone portable', 'Tablette', 'Camescope', 'Ecouteurs', 'Gros électroménager',\n",
    " 'Instrument de musique', 'Vidéo projecteur', 'Accessoire PC', 'Climatiseur / déshumidificateur', 'Ventilateur', 'Console de jeux vidéo']\n",
    "selectObjectList_FR=[my_str.upper() for my_str in selectObjectList_FR]"
   ]
  },
  {
   "cell_type": "code",
   "execution_count": 3,
   "id": "ceda8835-8174-40ed-8891-5d0b1cedc111",
   "metadata": {},
   "outputs": [
    {
     "name": "stdout",
     "output_type": "stream",
     "text": [
      "['OUTIL BRICOLAGE', 'JOUET', 'SÈCHE CHEVEUX', 'LUMINAIRES ET GUIRLANDES DÉCO', 'LAMPE', 'RADIO PORTABLE', 'APPAREIL DE DIVERTISSEMENT PORTABLE', 'ROBOT DE CUISINE', 'PETIT ÉLECTROMÉNAGER DE MAISON', 'ÉQUIPEMENT POUR CHEVEUX & BEAUTÉ', 'DIVERS', 'MACHINE À COUDRE', 'MONTRE / RÉVEIL', 'COMPOSANTS HI-FI', 'ORDINATEUR DE BUREAU', 'BATTERIE / CHARGEUR / ADAPTATEUR', 'PETIT ÉLECTROMÉNAGER DE CUISINE', 'ASPIRATEUR', 'ACCESSOIRE TV ET JEUX VIDEOS', 'MACHINE À CAFÉ', 'BOUILLOIRE', 'FER À REPASSER', 'APPAREIL PHOTO NUMÉRIQUE', 'IMPRIMANTE / SCANNER', 'ORDINATEUR PORTABLE', 'HI-FI', 'BROYEUSE À PAPIER', 'GRILLE PAINS', 'ECRAN PLAT', 'TÉLÉPHONE PORTABLE', 'TABLETTE', 'CAMESCOPE', 'ECOUTEURS', 'GROS ÉLECTROMÉNAGER', 'INSTRUMENT DE MUSIQUE', 'VIDÉO PROJECTEUR', 'ACCESSOIRE PC', 'CLIMATISEUR / DÉSHUMIDIFICATEUR', 'VENTILATEUR', 'CONSOLE DE JEUX VIDÉO']\n"
     ]
    }
   ],
   "source": [
    "print(selectObjectList_FR)"
   ]
  },
  {
   "cell_type": "code",
   "execution_count": 47,
   "id": "b7fea817-654a-477f-b6a5-02980d11ae06",
   "metadata": {},
   "outputs": [],
   "source": [
    "my_quotes_data=pd.read_csv('data/quotes.csv', sep=';', encoding='latin')"
   ]
  },
  {
   "cell_type": "code",
   "execution_count": 48,
   "id": "204ba758-6c5a-42c3-8ac0-7cd0c25ecc0d",
   "metadata": {},
   "outputs": [
    {
     "data": {
      "text/plain": [
       "(165, 4)"
      ]
     },
     "execution_count": 48,
     "metadata": {},
     "output_type": "execute_result"
    }
   ],
   "source": [
    "my_quotes_data.shape"
   ]
  },
  {
   "cell_type": "code",
   "execution_count": 29,
   "id": "458a072b-307f-4566-8635-588986c1a822",
   "metadata": {},
   "outputs": [],
   "source": [
    "def get_random_row(dataset):\n",
    "    \"\"\"\n",
    "    Get a random row from the dataset.\n",
    "\n",
    "    Args:\n",
    "    - dataset: A list of lists or a pandas DataFrame representing the dataset.\n",
    "\n",
    "    Returns:\n",
    "    - A random row from the dataset.\n",
    "    \"\"\"\n",
    "    if isinstance(dataset, list):\n",
    "        return random.choice(dataset)\n",
    "    elif isinstance(dataset, pd.DataFrame):\n",
    "        return dataset.sample(n=1)\n",
    "    else:\n",
    "        raise TypeError(\"Dataset should be a list of lists or a pandas DataFrame.\")"
   ]
  },
  {
   "cell_type": "code",
   "execution_count": 45,
   "id": "94dded12-b919-43b6-8e7e-0a99dfb1fe6c",
   "metadata": {},
   "outputs": [],
   "source": [
    "def get_quote(the_data, the_product, lang_var):\n",
    "    the_data_ok=the_data[the_data.lang==lang_var]\n",
    "    the_data_ok=the_data_ok[the_data_ok.Equipment==the_product]\n",
    "    num=the_data_ok.shape[0]\n",
    "    the_quote=get_random_row(the_data_ok)\n",
    "    author=the_quote.Author.values[0]\n",
    "    quote=the_quote.quote.values[0]\n",
    "    return author, quote"
   ]
  },
  {
   "cell_type": "code",
   "execution_count": 46,
   "id": "3cb7bb6c-2cc3-48d8-a584-2f80692be3f0",
   "metadata": {},
   "outputs": [
    {
     "data": {
      "text/plain": [
       "('J.K. Rowling',\n",
       " \"A lamp is like a wizard's wand, illuminating even the darkest corners of a room.\")"
      ]
     },
     "execution_count": 46,
     "metadata": {},
     "output_type": "execute_result"
    }
   ],
   "source": [
    "get_quote(my_quotes_data, \"LAMP\", \"UK\")"
   ]
  },
  {
   "cell_type": "code",
   "execution_count": 20,
   "id": "f9532380-9c6b-4a23-910c-a7a663ae3df6",
   "metadata": {},
   "outputs": [],
   "source": [
    "import random"
   ]
  },
  {
   "cell_type": "code",
   "execution_count": 28,
   "id": "5befbc90-9bfa-4470-b4cd-3f899376af1f",
   "metadata": {},
   "outputs": [
    {
     "data": {
      "text/plain": [
       "[4]"
      ]
     },
     "execution_count": 28,
     "metadata": {},
     "output_type": "execute_result"
    }
   ],
   "source": [
    "random.sample(range(,1)"
   ]
  },
  {
   "cell_type": "code",
   "execution_count": null,
   "id": "b26dc4a2-657e-4822-8056-1fd95438b483",
   "metadata": {},
   "outputs": [],
   "source": []
  }
 ],
 "metadata": {
  "kernelspec": {
   "display_name": "Python 3 (ipykernel)",
   "language": "python",
   "name": "python3"
  },
  "language_info": {
   "codemirror_mode": {
    "name": "ipython",
    "version": 3
   },
   "file_extension": ".py",
   "mimetype": "text/x-python",
   "name": "python",
   "nbconvert_exporter": "python",
   "pygments_lexer": "ipython3",
   "version": "3.10.0"
  }
 },
 "nbformat": 4,
 "nbformat_minor": 5
}
