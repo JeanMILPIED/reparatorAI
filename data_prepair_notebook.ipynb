{
 "cells": [
  {
   "cell_type": "markdown",
   "id": "9ac0aec7-b59e-4d20-b4d8-a03fdc544b4c",
   "metadata": {},
   "source": [
    "#### Notebook to prepair raw data  \n",
    "date: 2023"
   ]
  },
  {
   "cell_type": "markdown",
   "id": "e0826005-f295-4d85-8a76-4a84df4033b4",
   "metadata": {},
   "source": [
    "#### Step 0. Imports\n"
   ]
  },
  {
   "cell_type": "code",
   "execution_count": 2,
   "id": "3e75ddee-8444-4925-900e-1bc0cb348830",
   "metadata": {},
   "outputs": [],
   "source": [
    "import pandas as pd  \n",
    "import numpy as np  \n",
    "import os"
   ]
  },
  {
   "cell_type": "code",
   "execution_count": 3,
   "id": "06c617ef-7741-4bde-b788-c9fd58e45746",
   "metadata": {},
   "outputs": [],
   "source": [
    "os.chdir(r\"C:\\Users\\Administrateur\\OneDrive\\Documents\\GitHub\\reparatorAI\")"
   ]
  },
  {
   "cell_type": "markdown",
   "id": "f37f7ad6-93cf-46d6-986f-42aa301991d9",
   "metadata": {},
   "source": [
    "#### Step1. Functions  "
   ]
  },
  {
   "cell_type": "markdown",
   "id": "8834b0f4-2fb2-4aa9-889f-64ff6a95bcf3",
   "metadata": {},
   "source": [
    "#### Step2. datasets  "
   ]
  },
  {
   "cell_type": "code",
   "execution_count": 6,
   "id": "ad8da1fe-26a9-491d-a6e0-b6824954d3f5",
   "metadata": {},
   "outputs": [],
   "source": [
    "raw=pd.read_csv('./data/OpenRepairData_v0.3_aggregate_202303.csv', index_col=0, encoding='latin', low_memory=False)"
   ]
  },
  {
   "cell_type": "code",
   "execution_count": 7,
   "id": "7b8c240b-d9af-4ea7-aa80-abbb241ae9b8",
   "metadata": {},
   "outputs": [
    {
     "data": {
      "text/plain": [
       "(103076, 21)"
      ]
     },
     "execution_count": 7,
     "metadata": {},
     "output_type": "execute_result"
    }
   ],
   "source": [
    "raw.shape"
   ]
  },
  {
   "cell_type": "markdown",
   "id": "6c52d61b-2d0f-4dd6-be2f-69e918aee1ed",
   "metadata": {},
   "source": [
    "#### Step3. final treatment and saving  "
   ]
  },
  {
   "cell_type": "code",
   "execution_count": null,
   "id": "dad3b66b-d219-4431-889f-3628d9044b6e",
   "metadata": {},
   "outputs": [],
   "source": []
  }
 ],
 "metadata": {
  "kernelspec": {
   "display_name": "Python 3 (ipykernel)",
   "language": "python",
   "name": "python3"
  },
  "language_info": {
   "codemirror_mode": {
    "name": "ipython",
    "version": 3
   },
   "file_extension": ".py",
   "mimetype": "text/x-python",
   "name": "python",
   "nbconvert_exporter": "python",
   "pygments_lexer": "ipython3",
   "version": "3.10.0"
  }
 },
 "nbformat": 4,
 "nbformat_minor": 5
}
