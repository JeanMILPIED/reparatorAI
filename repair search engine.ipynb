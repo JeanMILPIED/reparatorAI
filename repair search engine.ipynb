{
 "cells": [
  {
   "cell_type": "code",
   "execution_count": 1,
   "id": "adf8b33f",
   "metadata": {},
   "outputs": [],
   "source": [
    "import pandas as pd\n",
    "from bs4 import BeautifulSoup\n",
    "import requests as r"
   ]
  },
  {
   "cell_type": "code",
   "execution_count": 44,
   "id": "f8f4b1ae",
   "metadata": {},
   "outputs": [],
   "source": [
    "def crawl_query(query):\n",
    "    try:#Exception handling \n",
    "        req = r.get(f\"https://www.bing.com/search?q={query}\",\n",
    "                     headers = {\"user-agent\":'Mozilla/5.0 (Windows NT 10.0; Win64; x64) AppleWebKit/537.36 (KHTML, like Gecko) Chrome/111.0.0.0 Safari/537.36'})\n",
    "        result_str = '<html><table style=\"border: none;\">' #Initializing the HTML code for displaying search results\n",
    "        if req.status_code == 200: #Status code 200 indicates a successful request\n",
    "            bs = BeautifulSoup(req.content, features=\"html.parser\") #converting the content/text returned by request to a BeautifulSoup object\n",
    "            search_result = bs.find_all(\"li\", class_=\"b_algo\") #'b_algo' is the class of the list object which represents a single result\n",
    "            search_result = [str(i).replace(\"<strong>\",\"\") for i in search_result] #removing the <strong> tag\n",
    "            search_result = [str(i).replace(\"</strong>\",\"\") for i in search_result] #removing the </strong> tag\n",
    "            result_df = pd.DataFrame() #Initializing the data frame that stores the results\n",
    "\n",
    "            for n,i in enumerate(search_result): #iterating through the search results\n",
    "                individual_search_result = BeautifulSoup(i, features=\"html.parser\") #converting individual search result into a BeautifulSoup object\n",
    "                h2 = individual_search_result.find('h2') #Finding the title of the individual search result\n",
    "                href = h2.find('a').get('href') #title's URL of the individual search result\n",
    "                cite = f'{href[:50]}...' if len(href) >= 50 else href # cite with first 20 chars of the URL\n",
    "                url_txt = h2.find('a').text #title's text of the individual search result\n",
    "                #In a few cases few individual search results doesn't have a description. In such cases the description would be blank\n",
    "                description = \"\" if individual_search_result.find('p') is None else individual_search_result.find('p').text[3:]\n",
    "                #Appending the result data frame after processing each individual search result\n",
    "                result_df = result_df.append(pd.DataFrame({\"Title\": url_txt, \"URL\": href, \"Description\": description}, index=[n]))\n",
    "                count_str = f'<b style=\"font-size:20px;\">Bing Search returned {len(result_df)} results</b>'\n",
    "                ########################################################\n",
    "                ######### HTML code to display search results ##########\n",
    "                ########################################################\n",
    "                result_str += f'<tr style=\"border: none;\"><h3><a href=\"{href}\" target=\"_blank\">{url_txt}</a></h3></tr>'+\\\n",
    "                f'<tr style=\"border: none;\"><strong style=\"color:green;\">{cite}</strong></tr>'+\\\n",
    "                f'<tr style=\"border: none;\">{description}</tr>'+\\\n",
    "                f'<tr style=\"border: none;\"><td style=\"border: none;\"></td></tr>'\n",
    "            result_str += '</table></html>'\n",
    "\n",
    "        #if the status code of the request isn't 200, then an error message is displayed along with an empty data frame        \n",
    "        else:\n",
    "            result_df = pd.DataFrame({\"Title\": \"\", \"URL\": \"\", \"Description\": \"\"}, index=[0])\n",
    "            result_str = '<html></html>'\n",
    "            count_str = '<b style=\"font-size:20px;\">Looks like an error!!</b>'\n",
    "\n",
    "    #if an exception is raised, then an error message is displayed along with an empty data frame\n",
    "    except:\n",
    "        result_df = pd.DataFrame({\"Title\": \"\", \"URL\": \"\", \"Description\": \"\"}, index=[0])\n",
    "        result_str = '<html></html>'\n",
    "        count_str = '<b style=\"font-size:20px;\">Looks like an error!!</b>'\n",
    "    return result_df\n"
   ]
  },
  {
   "cell_type": "code",
   "execution_count": 45,
   "id": "3aa04a5e",
   "metadata": {},
   "outputs": [],
   "source": [
    "#st.markdown('<h1 style=\"background-color: gainsboro; padding-left: 10px; padding-bottom: 20px;\">Search Engine Scraper</h1>', unsafe_allow_html=True)\n",
    "# query = st.text_input('', help='Enter the search string and hit Enter/Return')\n",
    "query='réparation grille pain SEB comment faire'\n",
    "query = query.replace(\" \", \"+\") #replacing the spaces in query result with +"
   ]
  },
  {
   "cell_type": "code",
   "execution_count": 46,
   "id": "e57a0884",
   "metadata": {},
   "outputs": [],
   "source": [
    "df=crawl_query(query)"
   ]
  },
  {
   "cell_type": "code",
   "execution_count": 47,
   "id": "06d79ce2",
   "metadata": {
    "scrolled": false
   },
   "outputs": [
    {
     "data": {
      "text/html": [
       "<div>\n",
       "<style scoped>\n",
       "    .dataframe tbody tr th:only-of-type {\n",
       "        vertical-align: middle;\n",
       "    }\n",
       "\n",
       "    .dataframe tbody tr th {\n",
       "        vertical-align: top;\n",
       "    }\n",
       "\n",
       "    .dataframe thead th {\n",
       "        text-align: right;\n",
       "    }\n",
       "</style>\n",
       "<table border=\"1\" class=\"dataframe\">\n",
       "  <thead>\n",
       "    <tr style=\"text-align: right;\">\n",
       "      <th></th>\n",
       "      <th>Title</th>\n",
       "      <th>URL</th>\n",
       "      <th>Description</th>\n",
       "    </tr>\n",
       "  </thead>\n",
       "  <tbody>\n",
       "    <tr>\n",
       "      <th>0</th>\n",
       "      <td>Comment réparer mon Grille Pain moi-même ? Gui...</td>\n",
       "      <td>https://www.spareka.fr/comment-reparer/electro...</td>\n",
       "      <td>Guide de réparation de panne pour grille-pain....</td>\n",
       "    </tr>\n",
       "    <tr>\n",
       "      <th>1</th>\n",
       "      <td>Mon grille pain ne se bloque plus, que faire -...</td>\n",
       "      <td>https://www.youtube.com/watch?v=HhvMarglKjs</td>\n",
       "      <td>28 sept. 2020 · Nous vous montrons dans ce tut...</td>\n",
       "    </tr>\n",
       "    <tr>\n",
       "      <th>2</th>\n",
       "      <td>Comment reparer un grille pain seb</td>\n",
       "      <td>http://www.comment-reparer.fr/comment-reparer-...</td>\n",
       "      <td>En vue d'une bonne réparation, Barnabé a listé...</td>\n",
       "    </tr>\n",
       "    <tr>\n",
       "      <th>3</th>\n",
       "      <td>Réparateur électroménager - Seb</td>\n",
       "      <td>https://www.seb.fr/service-clients/garantie-et...</td>\n",
       "      <td>OÙ FAIRE RÉPARER MON PRODUIT SEB ? Votre produ...</td>\n",
       "    </tr>\n",
       "  </tbody>\n",
       "</table>\n",
       "</div>"
      ],
      "text/plain": [
       "                                               Title  \\\n",
       "0  Comment réparer mon Grille Pain moi-même ? Gui...   \n",
       "1  Mon grille pain ne se bloque plus, que faire -...   \n",
       "2                 Comment reparer un grille pain seb   \n",
       "3                    Réparateur électroménager - Seb   \n",
       "\n",
       "                                                 URL  \\\n",
       "0  https://www.spareka.fr/comment-reparer/electro...   \n",
       "1        https://www.youtube.com/watch?v=HhvMarglKjs   \n",
       "2  http://www.comment-reparer.fr/comment-reparer-...   \n",
       "3  https://www.seb.fr/service-clients/garantie-et...   \n",
       "\n",
       "                                         Description  \n",
       "0  Guide de réparation de panne pour grille-pain....  \n",
       "1  28 sept. 2020 · Nous vous montrons dans ce tut...  \n",
       "2  En vue d'une bonne réparation, Barnabé a listé...  \n",
       "3  OÙ FAIRE RÉPARER MON PRODUIT SEB ? Votre produ...  "
      ]
     },
     "execution_count": 47,
     "metadata": {},
     "output_type": "execute_result"
    }
   ],
   "source": [
    "df"
   ]
  },
  {
   "cell_type": "code",
   "execution_count": null,
   "id": "38dd37d6",
   "metadata": {},
   "outputs": [],
   "source": []
  }
 ],
 "metadata": {
  "kernelspec": {
   "display_name": "Python 3",
   "language": "python",
   "name": "python3"
  },
  "language_info": {
   "codemirror_mode": {
    "name": "ipython",
    "version": 3
   },
   "file_extension": ".py",
   "mimetype": "text/x-python",
   "name": "python",
   "nbconvert_exporter": "python",
   "pygments_lexer": "ipython3",
   "version": "3.7.10"
  }
 },
 "nbformat": 4,
 "nbformat_minor": 5
}
